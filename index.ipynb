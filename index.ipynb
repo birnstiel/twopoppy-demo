{
 "cells": [
  {
   "cell_type": "markdown",
   "metadata": {
    "slideshow": {
     "slide_type": "slide"
    }
   },
   "source": [
    "# Demo of the Two Population Model"
   ]
  },
  {
   "cell_type": "markdown",
   "metadata": {
    "slideshow": {
     "slide_type": "-"
    }
   },
   "source": [
    "**Note**: the model is still under development. Results should not yet be trusted, please discuss them with me first to see what possible problems there might be. Also note that the [Binder](http://mybinder.org/) environment is temorary and requires a internet connection. Your work will definitely be lost unless you either download it, or even better, you clone the [github repository](https://github.com/birnstiel/twopoppy-demo) on your machine and run it there."
   ]
  },
  {
   "cell_type": "markdown",
   "metadata": {
    "slideshow": {
     "slide_type": "skip"
    }
   },
   "source": [
    "General imports and setup"
   ]
  },
  {
   "cell_type": "code",
   "execution_count": null,
   "metadata": {
    "slideshow": {
     "slide_type": "skip"
    }
   },
   "outputs": [],
   "source": [
    "import twopoppy"
   ]
  },
  {
   "cell_type": "code",
   "execution_count": null,
   "metadata": {
    "slideshow": {
     "slide_type": "skip"
    }
   },
   "outputs": [],
   "source": [
    "%matplotlib inline\n",
    "%config InlineBackend.figure_format='svg'\n",
    "from twopoppy.const import M_sun, R_sun, year, AU\n",
    "import os\n",
    "import numpy as np\n",
    "import matplotlib.pyplot as plt\n",
    "from matplotlib.pyplot import style\n",
    "style.use(['seaborn-dark',{'axes.grid': True,'font.size':14,'figure.figsize':(10,8),'lines.linewidth':2.0,}]);"
   ]
  },
  {
   "cell_type": "markdown",
   "metadata": {
    "slideshow": {
     "slide_type": "skip"
    }
   },
   "source": [
    "Setting simulation parameters"
   ]
  },
  {
   "cell_type": "code",
   "execution_count": null,
   "metadata": {},
   "outputs": [],
   "source": [
    "args = twopoppy.args()\n",
    "args.rstar = 2.5*R_sun\n",
    "args.mstar = 0.8*M_sun\n",
    "args.mdisk = 0.01*args.mstar\n",
    "args.rc    = 60*AU\n",
    "args.gamma = 0.75\n",
    "args.tstar = 3923.0\n",
    "args.tmax  = 2e6*year\n",
    "args.alpha = 1e-3"
   ]
  },
  {
   "cell_type": "markdown",
   "metadata": {
    "slideshow": {
     "slide_type": "slide"
    }
   },
   "source": [
    "Running the simulation"
   ]
  },
  {
   "cell_type": "code",
   "execution_count": null,
   "metadata": {},
   "outputs": [],
   "source": [
    "res = twopoppy.model_wrapper(args)"
   ]
  },
  {
   "cell_type": "markdown",
   "metadata": {
    "slideshow": {
     "slide_type": "skip"
    }
   },
   "source": [
    "Assign variable names."
   ]
  },
  {
   "cell_type": "code",
   "execution_count": null,
   "metadata": {
    "slideshow": {
     "slide_type": "skip"
    }
   },
   "outputs": [],
   "source": [
    "x      = res.x\n",
    "t      = res.timesteps\n",
    "sig_d  = res.sigma_d\n",
    "sig_da = res.sig_sol\n",
    "sig_g  = res.sigma_g\n",
    "a      = res.a"
   ]
  },
  {
   "cell_type": "markdown",
   "metadata": {
    "slideshow": {
     "slide_type": "slide"
    }
   },
   "source": [
    "# Plot Evolution of the masses and dust-to-gas ratios"
   ]
  },
  {
   "cell_type": "code",
   "execution_count": null,
   "metadata": {
    "slideshow": {
     "slide_type": "subslide"
    }
   },
   "outputs": [],
   "source": [
    "m_d = np.trapz(2*np.pi*x*sig_d,x=x)\n",
    "m_g = np.trapz(2*np.pi*x*sig_g,x=x)\n",
    "f,ax = plt.subplots(2,1,figsize=(10,8))\n",
    "ax[0].loglog(t/year,m_d/m_g,label='dust-to-gas')\n",
    "ax[0].set_xlabel('time [yr]')\n",
    "ax[0].set_ylabel('global dust-to-gas ratio')\n",
    "ax[0].set_ylim([2e-4,2e-2])\n",
    "\n",
    "ax[1].loglog(t/year,m_g/M_sun,label='gas')\n",
    "ax[1].loglog(t/year,100*m_d/M_sun,label='dust$\\\\times 100$')\n",
    "ax[1].set_xlabel('time [yr]')\n",
    "ax[1].set_ylabel('Mass [$M_\\odot$]')\n",
    "ax[1].legend(loc='best')\n",
    "ax[1].set_ylim([2e-5,2e-1])\n",
    "\n",
    "ax[0].set_title('Evolution of the global dust-to-gas ratio and dust/gas masses');"
   ]
  },
  {
   "cell_type": "markdown",
   "metadata": {
    "slideshow": {
     "slide_type": "subslide"
    }
   },
   "source": [
    "## Evolution of the gas accretion rate"
   ]
  },
  {
   "cell_type": "code",
   "execution_count": null,
   "metadata": {
    "slideshow": {
     "slide_type": "-"
    }
   },
   "outputs": [],
   "source": [
    "f,ax=plt.subplots()\n",
    "ax.loglog(t[1:]/year,-np.diff(m_g)/np.diff(t)/M_sun*year)\n",
    "ax.set_xlabel('time [yr]')\n",
    "ax.set_ylabel('$\\dot M_\\mathrm{g}$ [$M_\\odot$/yr]')\n",
    "ax.set_title('Evolution of the gas accretion rate');"
   ]
  },
  {
   "cell_type": "markdown",
   "metadata": {
    "slideshow": {
     "slide_type": "slide"
    }
   },
   "source": [
    "## Snapshots of the radial dust-to-gas profiles"
   ]
  },
  {
   "cell_type": "code",
   "execution_count": null,
   "metadata": {
    "slideshow": {
     "slide_type": "subslide"
    }
   },
   "outputs": [],
   "source": [
    "f,ax=plt.subplots()\n",
    "for _t in [0.1,0.2,0.5]:\n",
    "    it = abs(t-_t*1e6*year).argmin()\n",
    "    ax.loglog(x/AU,sig_d[it]/sig_g[it]*(sig_d[it]>1e-9),label='{} Myr'.format(_t))\n",
    "ax.set_xlabel('r [AU]')\n",
    "ax.set_ylabel(r'$\\Sigma_\\mathrm{d}/\\Sigma_\\mathrm{g}$')\n",
    "ax.set_xlim(1e0,5e2)\n",
    "ax.set_ylim(1e-5,1e-1)\n",
    "\n",
    "ax.legend(fontsize='small');"
   ]
  },
  {
   "cell_type": "markdown",
   "metadata": {
    "slideshow": {
     "slide_type": "slide"
    }
   },
   "source": [
    "## Snapshots of the surface densities"
   ]
  },
  {
   "cell_type": "code",
   "execution_count": null,
   "metadata": {
    "slideshow": {
     "slide_type": "subslide"
    }
   },
   "outputs": [],
   "source": [
    "f,ax=plt.subplots()\n",
    "for _t in [0.1,0.2,0.5]:\n",
    "    it = abs(t-_t*1e6*year).argmin()\n",
    "    l,=ax.loglog(x/AU,sig_g[it]/100.,label='{} Myr'.format(_t))\n",
    "    ax.loglog(x/AU,sig_d[it],c=l.get_color(),ls='--')\n",
    "ax.set_xlabel('r [AU]')\n",
    "ax.set_ylabel('$\\Sigma$ [g cm$^{-2}$]')\n",
    "ax.set_xlim(1e0,1e3)\n",
    "ax.set_ylim(1e-5,1e3)\n",
    "\n",
    "ax.plot(1e-100,1e-100,'k-',label='$\\Sigma_\\mathrm{g}$/100')\n",
    "ax.plot(1e-100,1e-100,'k--',label='$\\Sigma_\\mathrm{d}$')\n",
    "ax.legend(fontsize='small')\n",
    "f.savefig('1.pdf');"
   ]
  },
  {
   "cell_type": "code",
   "execution_count": null,
   "metadata": {
    "slideshow": {
     "slide_type": "subslide"
    }
   },
   "outputs": [],
   "source": [
    "a0=0.01\n",
    "a1=0.1\n",
    "\n",
    "ia0 = abs(a-a0).argmin()\n",
    "ia1 = abs(a-a1).argmin()\n",
    "\n",
    "f,ax=plt.subplots()\n",
    "ax.loglog(x/AU,sig_g[it]/100.,            label='$\\Sigma_\\mathrm{g}$/100')\n",
    "ax.loglog(x/AU,sig_da[ia0:ia1+1,:].sum(0),label='$\\Sigma_\\mathrm{{d}}$ [{:} mm -{:} mm]'.format(10*a0,10*a1))\n",
    "ax.loglog(x/AU,sig_d[it],                 label='$\\Sigma_\\mathrm{d,total}$')\n",
    "ax.set_xlim(1e0,5e2)\n",
    "ax.set_ylim(1e-6,1e2)\n",
    "\n",
    "ax.set_xlabel('r [AU]')\n",
    "ax.set_ylabel('$\\Sigma$ [g cm$^{-2}$]')\n",
    "ax.legend(loc='best');\n",
    "f.savefig('2.pdf')"
   ]
  },
  {
   "cell_type": "markdown",
   "metadata": {
    "slideshow": {
     "slide_type": "skip"
    }
   },
   "source": [
    "Get three size distributions by calling the distribution reconstruction directly."
   ]
  },
  {
   "cell_type": "code",
   "execution_count": null,
   "metadata": {
    "slideshow": {
     "slide_type": "subslide"
    }
   },
   "outputs": [],
   "source": [
    "a0=0.01\n",
    "a1=1.0\n",
    "\n",
    "ia0 = np.abs(a-a0).argmin()\n",
    "ia1 = np.abs(a-a1).argmin()\n",
    "\n",
    "f,ax=plt.subplots()\n",
    "for _t in [0.1,0.2,0.5]:\n",
    "    it = abs(res.timesteps-_t*1e6*year).argmin()\n",
    "    sig_sol,_,_,_,_,_ = twopoppy.distribution_reconstruction.reconstruct_size_distribution(res.x, res.a, res.timesteps[it], res.sigma_g[it], res.sigma_d[it], res.args.alpha*np.ones(res.args.nr), res.args.rhos, res.T, res.args.mstar, res.args.vfrag, a_0=res.args.a0)\n",
    "    l,=ax.loglog(res.x/AU,res.sigma_g[it]/100.,label='{} Myr'.format(_t))\n",
    "    ax.loglog(res.x/AU,sig_sol[ia0:ia1+1,:].sum(0),ls='--',c=l.get_color())\n",
    "    \n",
    "ax.set_xlim(1e0,5e2)\n",
    "ax.set_ylim(1e-7,1e0)\n",
    "\n",
    "ax.set_xlabel('r [AU]')\n",
    "ax.set_ylabel('$\\Sigma$ [g cm$^{-2}$]')\n",
    "ax.set_xlim(1e0,5e2)\n",
    "ax.set_ylim(1e-7,1e0)\n",
    "\n",
    "ax.plot(1e-100,1e-100,'k-',label='$\\Sigma_\\mathrm{g}$/100')\n",
    "ax.plot(1e-100,1e-100,'k--',label='$\\Sigma_\\mathrm{{d}}$ [{:} mm -{:} mm]'.format(10*a0,10*a1))\n",
    "ax.legend(fontsize='small')\n",
    "f.savefig('3.pdf');"
   ]
  },
  {
   "cell_type": "markdown",
   "metadata": {
    "slideshow": {
     "slide_type": "slide"
    }
   },
   "source": [
    "## Plot reconstructed particle size distribution"
   ]
  },
  {
   "cell_type": "code",
   "execution_count": null,
   "metadata": {
    "slideshow": {
     "slide_type": "subslide"
    }
   },
   "outputs": [],
   "source": [
    "from matplotlib.colors import LogNorm\n",
    "from matplotlib import ticker\n",
    "f,ax = plt.subplots()\n",
    "\n",
    "# contour plot and axes layout\n",
    "c=ax.contourf(res.x/AU,res.a,sig_sol,np.logspace(-10,1,11),cmap='viridis',norm=LogNorm())\n",
    "ax.set_xlim(1e-1,5e2)\n",
    "ax.set_ylim(1e-4,2e2)\n",
    "ax.set_xscale('log')\n",
    "ax.set_yscale('log')\n",
    "ax.set_xlabel('r [AU]')\n",
    "ax.set_ylabel('particle size [cm]')\n",
    "\n",
    "# color bar\n",
    "\n",
    "cb=plt.colorbar(c,ax=ax)\n",
    "\n",
    "cb.ax.set_axis_bgcolor('none')\n",
    "cb.solids.set_edgecolor('none')\n",
    "cb.solids.set_linewidth(0)\n",
    "cb.solids.set_antialiased(True)\n",
    "cb.patch.set_visible(False)\n",
    "cb.locator = ticker.LogLocator(numticks=7)\n",
    "cb.set_label('$\\log (\\Sigma_\\mathrm{d}(r,a)\\cdot a ) $ [g cm$^{-2}$]')\n",
    "cb.update_ticks()"
   ]
  },
  {
   "cell_type": "markdown",
   "metadata": {
    "slideshow": {
     "slide_type": "skip"
    }
   },
   "source": [
    "To present the results as slides, save the notebook with the figures and then execute the cell below. Make sure to interrupt the kernel (via the \"stop\" button or the menu) when you are done. **Note:** This does not work on [Binder](http://www.mybinder.org), but only locally."
   ]
  },
  {
   "cell_type": "code",
   "execution_count": null,
   "metadata": {
    "slideshow": {
     "slide_type": "skip"
    }
   },
   "outputs": [],
   "source": [
    "!jupyter nbconvert demo.ipynb --to slides --post serve --template output_toggle"
   ]
  }
 ],
 "metadata": {
  "anaconda-cloud": {},
  "kernelspec": {
   "display_name": "Python 3",
   "language": "python",
   "name": "python3"
  },
  "language_info": {
   "codemirror_mode": {
    "name": "ipython",
    "version": 3
   },
   "file_extension": ".py",
   "mimetype": "text/x-python",
   "name": "python",
   "nbconvert_exporter": "python",
   "pygments_lexer": "ipython3",
   "version": "3.6.3"
  }
 },
 "nbformat": 4,
 "nbformat_minor": 1
}

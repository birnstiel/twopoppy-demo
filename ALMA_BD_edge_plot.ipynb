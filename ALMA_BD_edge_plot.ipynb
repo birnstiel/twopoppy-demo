{
 "cells": [
  {
   "cell_type": "code",
   "execution_count": null,
   "metadata": {
    "collapsed": true
   },
   "outputs": [],
   "source": [
    "!make SHELL=/bin/bash"
   ]
  },
  {
   "cell_type": "code",
   "execution_count": null,
   "metadata": {
    "collapsed": false
   },
   "outputs": [],
   "source": [
    "%matplotlib inline\n",
    "from aux import better_plots, year, AU\n",
    "import os\n",
    "import numpy as np\n",
    "import matplotlib.pyplot as plt\n",
    "better_plots(fs=16,lw=2)"
   ]
  },
  {
   "cell_type": "code",
   "execution_count": null,
   "metadata": {
    "collapsed": false
   },
   "outputs": [],
   "source": [
    "%run two_pop_run.py -rstar 0.8299 -mdisk 1e-2 -rc 20 -tstar 3000 -mstar 0.1 -tmax 5e5"
   ]
  },
  {
   "cell_type": "code",
   "execution_count": null,
   "metadata": {
    "collapsed": false
   },
   "outputs": [],
   "source": [
    "x      = np.loadtxt('data/x.dat')\n",
    "t      = np.loadtxt('data/time.dat')\n",
    "sig_d  = np.loadtxt('data/sigma_d.dat')\n",
    "sig_da = np.loadtxt('data/sigma_d_a.dat')\n",
    "sig_g  = np.loadtxt('data/sigma_g.dat')\n",
    "a      = np.loadtxt('data/a.dat')"
   ]
  },
  {
   "cell_type": "code",
   "execution_count": null,
   "metadata": {
    "collapsed": false
   },
   "outputs": [],
   "source": [
    "f,ax=plt.subplots()\n",
    "for _t in [0.1,0.2,0.5]:\n",
    "    it = abs(t-_t*1e6*year).argmin()\n",
    "    l,=ax.loglog(x/AU,sig_g[it]/100.,label='{} Myr'.format(_t))\n",
    "    ax.loglog(x/AU,sig_d[it],c=l.get_color(),ls='--')\n",
    "ax.set_xlabel('r [AU]')\n",
    "ax.set_ylabel('$\\Sigma$ [g cm$^{-2}$]')\n",
    "ax.set_xlim(1e0,5e2)\n",
    "ax.set_ylim(1e-7,1e0)\n",
    "\n",
    "ax.plot(1e-100,1e-100,'k-',label='$\\Sigma_\\mathrm{g}$/100')\n",
    "ax.plot(1e-100,1e-100,'k--',label='$\\Sigma_\\mathrm{d}$')\n",
    "ax.legend(fontsize='x-small')\n",
    "f.savefig('1.pdf');"
   ]
  },
  {
   "cell_type": "code",
   "execution_count": null,
   "metadata": {
    "collapsed": false
   },
   "outputs": [],
   "source": [
    "a0=0.01\n",
    "a1=0.1\n",
    "\n",
    "ia0 = abs(a-a0).argmin()\n",
    "ia1 = abs(a-a1).argmin()\n",
    "\n",
    "f,ax=plt.subplots()\n",
    "ax.loglog(x/AU,sig_g[it]/100.,label='$\\Sigma_\\mathrm{g}$/100')\n",
    "ax.loglog(x/AU,sig_da[ia0:ia1+1,:].sum(0),label='$\\Sigma_\\mathrm{{d}}$ [{:} mm -{:} mm]'.format(10*a0,10*a1))\n",
    "ax.set_xlim(1e0,5e2)\n",
    "ax.set_ylim(1e-7,1e0)\n",
    "\n",
    "ax.set_xlabel('r [AU]')\n",
    "ax.set_ylabel('$\\Sigma$ [g cm$^{-2}$]')\n",
    "ax.legend(fontsize='small');\n",
    "f.savefig('2.pdf')"
   ]
  },
  {
   "cell_type": "markdown",
   "metadata": {},
   "source": [
    "Run three time to get three size distributions."
   ]
  },
  {
   "cell_type": "code",
   "execution_count": null,
   "metadata": {
    "collapsed": false
   },
   "outputs": [],
   "source": [
    "a0=0.01\n",
    "a1=0.1\n",
    "\n",
    "ia0 = np.abs(a-a0).argmin()\n",
    "ia1 = np.abs(a-a1).argmin()\n",
    "\n",
    "f,ax=plt.subplots()\n",
    "for _t in [0.1,0.2,0.5]:\n",
    "    r      = os.system('./two_pop_run.py -rstar 0.8299 -mdisk 1e-2 -rc 20 -tstar 3000 -mstar 0.1 -tmax {}'.format(_t*1e6))\n",
    "    x      = np.loadtxt('data/x.dat')\n",
    "    t      = np.loadtxt('data/time.dat')\n",
    "    sig_d  = np.loadtxt('data/sigma_d.dat')\n",
    "    sig_da = np.loadtxt('data/sigma_d_a.dat')\n",
    "    sig_g  = np.loadtxt('data/sigma_g.dat')\n",
    "    a      = np.loadtxt('data/a.dat')\n",
    "    \n",
    "    l,=ax.loglog(x/AU,sig_g[-1]/100.,label='{} Myr'.format(_t))\n",
    "    ax.loglog(x/AU,sig_da[ia0:ia1+1,:].sum(0),ls='--',c=l.get_color())\n",
    "ax.set_xlim(1e0,5e2)\n",
    "ax.set_ylim(1e-7,1e0)\n",
    "\n",
    "ax.set_xlabel('r [AU]')\n",
    "ax.set_ylabel('$\\Sigma$ [g cm$^{-2}$]')\n",
    "ax.set_xlim(1e0,5e2)\n",
    "ax.set_ylim(1e-7,1e0)\n",
    "\n",
    "ax.plot(1e-100,1e-100,'k-',label='$\\Sigma_\\mathrm{g}$/100')\n",
    "ax.plot(1e-100,1e-100,'k--',label='$\\Sigma_\\mathrm{{d}}$ [{:} mm -{:} mm]'.format(10*a0,10*a1))\n",
    "ax.legend(fontsize='small')\n",
    "f.savefig('3.pdf');"
   ]
  }
 ],
 "metadata": {
  "kernelspec": {
   "display_name": "Python 2",
   "language": "python",
   "name": "python2"
  },
  "language_info": {
   "codemirror_mode": {
    "name": "ipython",
    "version": 2
   },
   "file_extension": ".py",
   "mimetype": "text/x-python",
   "name": "python",
   "nbconvert_exporter": "python",
   "pygments_lexer": "ipython2",
   "version": "2.7.11"
  }
 },
 "nbformat": 4,
 "nbformat_minor": 0
}

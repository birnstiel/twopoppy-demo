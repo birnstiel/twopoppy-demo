{
 "cells": [
  {
   "cell_type": "code",
   "execution_count": 1,
   "metadata": {
    "collapsed": false
   },
   "outputs": [
    {
     "name": "stdout",
     "output_type": "stream",
     "text": [
      "Using matplotlib backend: Qt4Agg\n",
      "Using matplotlib backend: Qt4Agg\n",
      "Populating the interactive namespace from numpy and matplotlib\n"
     ]
    }
   ],
   "source": [
    "from aux import better_plots, year, AU\n",
    "import os\n",
    "better_plots(fs=16,lw=2)\n",
    "%matplotlib\n",
    "%pylab"
   ]
  },
  {
   "cell_type": "code",
   "execution_count": 2,
   "metadata": {
    "collapsed": false
   },
   "outputs": [
    {
     "name": "stdout",
     "output_type": "stream",
     "text": [
      "New implementation\n",
      "\n",
      "-------------------------------------------------------------------------------\n",
      "         _____ _    _  _____       ______ ___________      ________   __\n",
      "        |_   _| |  | ||  _  |      | ___ \\  _  | ___ \\     | ___ \\ \\ / /\n",
      "          | | | |  | || | | |______| |_/ / | | | |_/ /_____| |_/ /\\ V / \n",
      "          | | | |/\\| || | | |______|  __/| | | |  __/______|  __/  \\ /  \n",
      "          | | \\  /\\  /\\ \\_/ /      | |   \\ \\_/ / |         | |     | |  \n",
      "          \\_/  \\/  \\/  \\___/       \\_|    \\___/\\_|         \\_|     \\_/  \n",
      "                                                                              \n",
      "\n",
      "This script runs a two-population dust model according to Birnstiel, Klahr,\n",
      "Ercolano, A&A (2012). The output of the code is described in the README.md file.\n",
      "\n",
      "Available at: https://github.com/birnstiel/two-pop-py\n",
      "\n",
      "For bug reports, questions, ... contact birnstiel@mpia.de.\n",
      "\n",
      "Note:\n",
      "-----\n",
      "\n",
      "If you use this code in a publication, please cite at least Birnstiel,\n",
      "Klahr, & Ercolano, A&A (2012)[1], and possibly Birnstiel et al. (ApJL) 2015[2]\n",
      "if you use the size distribution reconstruction. I addition to that, it would\n",
      "be best practice to include the hash of the version you used to make sure\n",
      "results are reproducible, as the code can change.\n",
      "\n",
      "[1]: http://dx.doi.org/10.1051/0004-6361/201118136\n",
      "[2]: http://dx.doi.org/10.1088/2041-8205/813/1/L14\n",
      "\n",
      "------------------------------------------------------------------------------- \n",
      "\n",
      "\n",
      "-----------------------------------\n",
      "Model parameters:\n",
      "-----------------------------------\n",
      "\n",
      "n_r       =      2e+02 \n",
      "n_t       =      1e+02 \n",
      "t_max     =      5e+05 years\n",
      "alpha     =      0.001 \n",
      "d2g       =       0.01 \n",
      "M_star    =        0.1 solar masses\n",
      "T_star    =      3e+03 K\n",
      "R_star    =       0.83 R_sun\n",
      "R_c       =         20 AU\n",
      "M_disk    =       0.01 M_star\n",
      "RHO_S     =        1.2 g/cm^3\n",
      "V_FRAG    =      1e+03 cm/s\n",
      "a_0       =      1e-05 cm\n",
      "E_drift   =          1 \n",
      "gas evol. =         on\n",
      "\n",
      "-----------------------------------\n",
      "toy model running ... Done!\n",
      "\n",
      "-----------------------------------\n",
      "reconstructing size distribution\n"
     ]
    },
    {
     "name": "stderr",
     "output_type": "stream",
     "text": [
      "/Users/birnstiel/Dropbox/python-projects/two-pop-py/distribution_reconstruction.py:89: RuntimeWarning: invalid value encountered in sqrt\n",
      "  a_fr   = sig_g/(pi*rho_s)*(b-np.sqrt(b**2-4.))\n",
      "/Users/birnstiel/Dropbox/python-projects/two-pop-py/aux_functions.py:40: RuntimeWarning: invalid value encountered in log10\n",
      "  R_int = lambda x_int: 10**(interp(log10(x_int),log10(x),log10(R)))\n",
      "/Users/birnstiel/Dropbox/python-projects/two-pop-py/distribution_reconstruction.py:252: RuntimeWarning: invalid value encountered in divide\n",
      "  inte /= np.abs(inte).max()\n",
      "/Users/birnstiel/Dropbox/python-projects/two-pop-py/distribution_reconstruction.py:269: RuntimeWarning: overflow encountered in power\n",
      "  sol2 = np.maximum(sig_3[ia,mask] , _sigd*np.exp(A*((r[mask]/ra)**p[mask]-1.)))\n"
     ]
    },
    {
     "name": "stdout",
     "output_type": "stream",
     "text": [
      "\n",
      "-----------------------------------\n",
      "writing results to data/ ...\n",
      "-----------------------------------\n",
      "\n",
      "              ALL DONE             \n",
      "\n",
      "-----------------------------------\n"
     ]
    }
   ],
   "source": [
    "%run two_pop_run.py -rstar 0.8299 -mdisk 1e-2 -rc 20 -tstar 3000 -mstar 0.1 -tmax 5e5"
   ]
  },
  {
   "cell_type": "code",
   "execution_count": 3,
   "metadata": {
    "collapsed": false
   },
   "outputs": [],
   "source": [
    "x      = loadtxt('data/x.dat')\n",
    "t      = loadtxt('data/time.dat')\n",
    "sig_d  = loadtxt('data/sigma_d.dat')\n",
    "sig_da = loadtxt('data/sigma_d_a.dat')\n",
    "sig_g  = loadtxt('data/sigma_g.dat')\n",
    "a      = loadtxt('data/a.dat')"
   ]
  },
  {
   "cell_type": "code",
   "execution_count": 4,
   "metadata": {
    "collapsed": false
   },
   "outputs": [],
   "source": [
    "f,ax=subplots()\n",
    "for _t in [0.1,0.2,0.5]:\n",
    "    it = abs(t-_t*1e6*year).argmin()\n",
    "    l,=ax.loglog(x/AU,sig_g[it]/100.,label='{} Myr'.format(_t))\n",
    "    ax.loglog(x/AU,sig_d[it],c=l.get_color(),ls='--')\n",
    "ax.set_xlabel('r [AU]')\n",
    "ax.set_ylabel('$\\Sigma$ [g cm$^{-2}$]')\n",
    "ax.set_xlim(1e0,5e2)\n",
    "ax.set_ylim(1e-7,1e0)\n",
    "\n",
    "ax.plot(1e-100,1e-100,'k-',label='$\\Sigma_\\mathrm{g}$/100')\n",
    "ax.plot(1e-100,1e-100,'k--',label='$\\Sigma_\\mathrm{d}$')\n",
    "ax.legend()\n",
    "f.savefig('1.pdf');"
   ]
  },
  {
   "cell_type": "code",
   "execution_count": 5,
   "metadata": {
    "collapsed": false
   },
   "outputs": [],
   "source": [
    "a0=0.01\n",
    "a1=0.1\n",
    "\n",
    "ia0 = abs(a-a0).argmin()\n",
    "ia1 = abs(a-a1).argmin()\n",
    "\n",
    "f,ax=subplots()\n",
    "ax.loglog(x/AU,sig_g[it]/100.,label='$\\Sigma_\\mathrm{g}$/100')\n",
    "ax.loglog(x/AU,sig_da[ia0:ia1+1,:].sum(0),label='$\\Sigma_\\mathrm{{d}}$ [{:} mm -{:} mm]'.format(10*a0,10*a1))\n",
    "ax.set_xlim(1e0,5e2)\n",
    "ax.set_ylim(1e-7,1e0)\n",
    "\n",
    "ax.set_xlabel('r [AU]')\n",
    "ax.set_ylabel('$\\Sigma$ [g cm$^{-2}$]')\n",
    "ax.legend();\n",
    "f.savefig('2.pdf')"
   ]
  },
  {
   "cell_type": "markdown",
   "metadata": {},
   "source": [
    "Run three time to get three size distributions."
   ]
  },
  {
   "cell_type": "code",
   "execution_count": 6,
   "metadata": {
    "collapsed": false
   },
   "outputs": [],
   "source": [
    "a0=0.01\n",
    "a1=0.1\n",
    "\n",
    "ia0 = abs(a-a0).argmin()\n",
    "ia1 = abs(a-a1).argmin()\n",
    "\n",
    "f,ax=subplots()\n",
    "for _t in [0.1,0.2,0.5]:\n",
    "    r      = os.system('./two_pop_run.py -rstar 0.8299 -mdisk 1e-2 -rc 20 -tstar 3000 -mstar 0.1 -tmax {}'.format(_t*1e6))\n",
    "    x      = loadtxt('data/x.dat')\n",
    "    t      = loadtxt('data/time.dat')\n",
    "    sig_d  = loadtxt('data/sigma_d.dat')\n",
    "    sig_da = loadtxt('data/sigma_d_a.dat')\n",
    "    sig_g  = loadtxt('data/sigma_g.dat')\n",
    "    a      = loadtxt('data/a.dat')\n",
    "    \n",
    "    l,=ax.loglog(x/AU,sig_g[-1]/100.,label='{} Myr'.format(_t))\n",
    "    ax.loglog(x/AU,sig_da[ia0:ia1+1,:].sum(0),ls='--',c=l.get_color())\n",
    "ax.set_xlim(1e0,5e2)\n",
    "ax.set_ylim(1e-7,1e0)\n",
    "\n",
    "ax.set_xlabel('r [AU]')\n",
    "ax.set_ylabel('$\\Sigma$ [g cm$^{-2}$]')\n",
    "ax.set_xlim(1e0,5e2)\n",
    "ax.set_ylim(1e-7,1e0)\n",
    "\n",
    "ax.plot(1e-100,1e-100,'k-',label='$\\Sigma_\\mathrm{g}$/100')\n",
    "ax.plot(1e-100,1e-100,'k--',label='$\\Sigma_\\mathrm{{d}}$ [{:} mm -{:} mm]'.format(10*a0,10*a1))\n",
    "ax.legend(fontsize='small')\n",
    "f.savefig('3.pdf');"
   ]
  }
 ],
 "metadata": {
  "kernelspec": {
   "display_name": "Python 2",
   "language": "python",
   "name": "python2"
  },
  "language_info": {
   "codemirror_mode": {
    "name": "ipython",
    "version": 2
   },
   "file_extension": ".py",
   "mimetype": "text/x-python",
   "name": "python",
   "nbconvert_exporter": "python",
   "pygments_lexer": "ipython2",
   "version": "2.7.11"
  }
 },
 "nbformat": 4,
 "nbformat_minor": 0
}
